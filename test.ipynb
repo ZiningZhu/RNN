{
 "cells": [
  {
   "cell_type": "code",
   "execution_count": 2,
   "metadata": {
    "collapsed": true
   },
   "outputs": [],
   "source": [
    "import tensorflow as tf\n",
    "import numpy as np\n"
   ]
  },
  {
   "cell_type": "code",
   "execution_count": 2,
   "metadata": {
    "collapsed": false
   },
   "outputs": [
    {
     "name": "stdout",
     "output_type": "stream",
     "text": [
      "s=[ 0.40460971  0.14884759  0.14884759  0.14884759  0.14884759]\n",
      "1.56261\n"
     ]
    }
   ],
   "source": [
    "def test_cross_entropy():\n",
    "    t = tf.Variable([1,0,0,0,0], dtype=tf.float32)\n",
    "    l = tf.Variable([1,0,0,0,0], dtype=tf.float32)\n",
    "    \n",
    "    s = tf.nn.softmax(t)\n",
    "    y = tf.nn.softmax_cross_entropy_with_logits(labels=s, logits=s)\n",
    "    sess = tf.Session()\n",
    "    sess.run(tf.global_variables_initializer())\n",
    "    \n",
    "    print (\"s={}\".format(sess.run(s)))\n",
    "    print (sess.run(y))\n",
    "    \n",
    "test_cross_entropy()\n"
   ]
  },
  {
   "cell_type": "code",
   "execution_count": 3,
   "metadata": {
    "collapsed": false
   },
   "outputs": [
    {
     "name": "stdout",
     "output_type": "stream",
     "text": [
      "t_arr.shape is (2, 4)\n",
      "s1=[[ 0.47536692  0.17487772  0.17487772  0.17487772]\n",
      " [ 0.47536692  0.17487772  0.17487772  0.17487772]], shape (2, 4)\n",
      "s2=[[ 0.5  0.5  0.5  0.5]\n",
      " [ 0.5  0.5  0.5  0.5]], shape (2, 4)\n",
      "s3=[[ 0.47536692  0.17487772  0.17487772  0.17487772]\n",
      " [ 0.47536692  0.17487772  0.17487772  0.17487772]], shape (2, 4)\n"
     ]
    }
   ],
   "source": [
    "def test_softmax():\n",
    "    \n",
    "    t_arr = np.array([[1,0,0,0], [1,0,0,0]])\n",
    "    print (\"t_arr.shape is {}\".format(t_arr.shape))\n",
    "    t = tf.Variable(np.array(t_arr), dtype=tf.float32)\n",
    "   \n",
    "    \n",
    "    s1 = tf.nn.softmax(t) # Softmax on last dimension\n",
    "    s2 = tf.nn.softmax(t, dim=0) \n",
    "    s3 = tf.nn.softmax(t, dim=1)\n",
    "    #y = tf.nn.softmax_cross_entropy_with_logits(labels=s, logits=s)\n",
    "    sess = tf.Session()\n",
    "    sess.run(tf.global_variables_initializer())\n",
    "    \n",
    "    print (\"s1={}, shape {}\".format(sess.run(s1), sess.run(s1).shape))\n",
    "    print (\"s2={}, shape {}\".format(sess.run(s2), sess.run(s2).shape))\n",
    "    print (\"s3={}, shape {}\".format(sess.run(s3), sess.run(s3).shape))\n",
    "    \n",
    "    \n",
    "test_softmax()"
   ]
  },
  {
   "cell_type": "code",
   "execution_count": 5,
   "metadata": {
    "collapsed": false
   },
   "outputs": [
    {
     "name": "stdout",
     "output_type": "stream",
     "text": [
      "s1=5.5\n",
      "s2=[ 4.          5.          6.          7.00000048]\n",
      "s3=[ 1.5  5.5  9.5]\n"
     ]
    }
   ],
   "source": [
    "def test_reduce_mean():\n",
    "    logits = tf.Variable(np.arange(12).reshape([3,4]), dtype=tf.float32)\n",
    "    s1 = tf.reduce_mean(logits) # shape (). Collapses all axes\n",
    "    s2 = tf.reduce_mean(logits, axis=0) # shape (4,)\n",
    "    s3 = tf.reduce_mean(logits, axis=1) # shape (3,)\n",
    "    sess = tf.Session()\n",
    "    sess.run(tf.global_variables_initializer())\n",
    "    \n",
    "    print (\"s1={}\".format(sess.run(s1)))\n",
    "    print (\"s2={}\".format(sess.run(s2)))\n",
    "    print (\"s3={}\".format(sess.run(s3)))\n",
    "    \n",
    "test_reduce_mean()"
   ]
  },
  {
   "cell_type": "code",
   "execution_count": 6,
   "metadata": {
    "collapsed": false
   },
   "outputs": [
    {
     "name": "stdout",
     "output_type": "stream",
     "text": [
      "inputs is [[  0.   1.   2.   3.]\n",
      " [  4.   5.   6.   7.]\n",
      " [  8.   9.  10.  11.]], shape (3, 4)\n",
      "xs[0]=[[ 0.  1.  2.  3.]]\n",
      "xs[1]=[[ 4.  5.  6.  7.]]\n",
      "xs[2]=[[  8.   9.  10.  11.]]\n"
     ]
    }
   ],
   "source": [
    "def test_split():\n",
    "    inputs = tf.Variable(np.arange(12).reshape([3,4]), dtype=tf.float32)\n",
    "    seq_length = 3\n",
    "    ts = []\n",
    "    xs = []\n",
    "    split_result = tf.split(inputs, seq_length, axis=0)\n",
    "    for t, xs_t in enumerate(split_result):\n",
    "        ts.append(t)\n",
    "        xs.append(xs_t)\n",
    "        \n",
    "    sess = tf.Session()\n",
    "    sess.run(tf.global_variables_initializer())\n",
    "    \n",
    "    print (\"inputs is {}, shape {}\".format(sess.run(inputs), sess.run(inputs).shape))\n",
    "    for i in ts:\n",
    "        print (\"xs[{}]={}\".format(ts[i], sess.run(xs[i])))\n",
    "    \n",
    "    \n",
    "    \n",
    "test_split()"
   ]
  },
  {
   "cell_type": "code",
   "execution_count": 7,
   "metadata": {
    "collapsed": false
   },
   "outputs": [
    {
     "data": {
      "text/plain": [
       "'/media/zining/OS/Zining_Zhu/Programs/TA_Hackathon/RNN'"
      ]
     },
     "execution_count": 7,
     "metadata": {},
     "output_type": "execute_result"
    }
   ],
   "source": [
    "import os\n",
    "os.getcwd()"
   ]
  },
  {
   "cell_type": "code",
   "execution_count": 8,
   "metadata": {
    "collapsed": false
   },
   "outputs": [
    {
     "data": {
      "text/plain": [
       "['__doc__', '__loader__', '__name__', '__package__', '__path__', '__spec__']"
      ]
     },
     "execution_count": 8,
     "metadata": {},
     "output_type": "execute_result"
    }
   ],
   "source": [
    "dir(tf)\n",
    "# When cuDNN was not properly installed, dir(tf) looks like this"
   ]
  },
  {
   "cell_type": "code",
   "execution_count": 9,
   "metadata": {
    "collapsed": false
   },
   "outputs": [
    {
     "ename": "AttributeError",
     "evalue": "module 'tensorflow' has no attribute '__version__'",
     "output_type": "error",
     "traceback": [
      "\u001b[0;31m---------------------------------------------------------------------------\u001b[0m",
      "\u001b[0;31mAttributeError\u001b[0m                            Traceback (most recent call last)",
      "\u001b[0;32m<ipython-input-9-678be4e04bd7>\u001b[0m in \u001b[0;36m<module>\u001b[0;34m()\u001b[0m\n\u001b[0;32m----> 1\u001b[0;31m \u001b[0mtf\u001b[0m\u001b[0;34m.\u001b[0m\u001b[0m__version__\u001b[0m\u001b[0;34m\u001b[0m\u001b[0m\n\u001b[0m",
      "\u001b[0;31mAttributeError\u001b[0m: module 'tensorflow' has no attribute '__version__'"
     ]
    }
   ],
   "source": [
    "tf.__version__\n",
    "# and tf.__version__ looks like this"
   ]
  },
  {
   "cell_type": "code",
   "execution_count": 7,
   "metadata": {
    "collapsed": false
   },
   "outputs": [
    {
     "data": {
      "text/plain": [
       "['AggregationMethod',\n",
       " 'Assert',\n",
       " 'AttrValue',\n",
       " 'COMPILER_VERSION',\n",
       " 'ConditionalAccumulator',\n",
       " 'ConditionalAccumulatorBase',\n",
       " 'ConfigProto',\n",
       " 'DType',\n",
       " 'DeviceSpec',\n",
       " 'Dimension',\n",
       " 'Event',\n",
       " 'FIFOQueue',\n",
       " 'FixedLenFeature',\n",
       " 'FixedLenSequenceFeature',\n",
       " 'FixedLengthRecordReader',\n",
       " 'GIT_VERSION',\n",
       " 'GPUOptions',\n",
       " 'GRAPH_DEF_VERSION',\n",
       " 'GRAPH_DEF_VERSION_MIN_CONSUMER',\n",
       " 'GRAPH_DEF_VERSION_MIN_PRODUCER',\n",
       " 'Graph',\n",
       " 'GraphDef',\n",
       " 'GraphKeys',\n",
       " 'GraphOptions',\n",
       " 'HistogramProto',\n",
       " 'IdentityReader',\n",
       " 'IndexedSlices',\n",
       " 'InteractiveSession',\n",
       " 'LogMessage',\n",
       " 'MetaGraphDef',\n",
       " 'NameAttrList',\n",
       " 'NoGradient',\n",
       " 'NodeDef',\n",
       " 'NotDifferentiable',\n",
       " 'OpError',\n",
       " 'Operation',\n",
       " 'OptimizerOptions',\n",
       " 'PaddingFIFOQueue',\n",
       " 'Print',\n",
       " 'PriorityQueue',\n",
       " 'QUANTIZED_DTYPES',\n",
       " 'QueueBase',\n",
       " 'RandomShuffleQueue',\n",
       " 'ReaderBase',\n",
       " 'RegisterGradient',\n",
       " 'RunMetadata',\n",
       " 'RunOptions',\n",
       " 'Session',\n",
       " 'SessionLog',\n",
       " 'SparseConditionalAccumulator',\n",
       " 'SparseFeature',\n",
       " 'SparseTensor',\n",
       " 'SparseTensorValue',\n",
       " 'Summary',\n",
       " 'TFRecordReader',\n",
       " 'Tensor',\n",
       " 'TensorArray',\n",
       " 'TensorInfo',\n",
       " 'TensorShape',\n",
       " 'TextLineReader',\n",
       " 'VERSION',\n",
       " 'VarLenFeature',\n",
       " 'Variable',\n",
       " 'VariableScope',\n",
       " 'WholeFileReader',\n",
       " '__builtins__',\n",
       " '__cached__',\n",
       " '__compiler_version__',\n",
       " '__doc__',\n",
       " '__file__',\n",
       " '__git_version__',\n",
       " '__loader__',\n",
       " '__name__',\n",
       " '__package__',\n",
       " '__path__',\n",
       " '__spec__',\n",
       " '__version__',\n",
       " 'abs',\n",
       " 'accumulate_n',\n",
       " 'acos',\n",
       " 'add',\n",
       " 'add_check_numerics_ops',\n",
       " 'add_n',\n",
       " 'add_to_collection',\n",
       " 'all_variables',\n",
       " 'app',\n",
       " 'arg_max',\n",
       " 'arg_min',\n",
       " 'argmax',\n",
       " 'argmin',\n",
       " 'as_dtype',\n",
       " 'as_string',\n",
       " 'asin',\n",
       " 'assert_equal',\n",
       " 'assert_greater',\n",
       " 'assert_greater_equal',\n",
       " 'assert_integer',\n",
       " 'assert_less',\n",
       " 'assert_less_equal',\n",
       " 'assert_negative',\n",
       " 'assert_non_negative',\n",
       " 'assert_non_positive',\n",
       " 'assert_none_equal',\n",
       " 'assert_positive',\n",
       " 'assert_proper_iterable',\n",
       " 'assert_rank',\n",
       " 'assert_rank_at_least',\n",
       " 'assert_same_float_dtype',\n",
       " 'assert_scalar',\n",
       " 'assert_type',\n",
       " 'assert_variables_initialized',\n",
       " 'assign',\n",
       " 'assign_add',\n",
       " 'assign_sub',\n",
       " 'atan',\n",
       " 'atan2',\n",
       " 'batch_to_space',\n",
       " 'batch_to_space_nd',\n",
       " 'betainc',\n",
       " 'bfloat16',\n",
       " 'bincount',\n",
       " 'bitcast',\n",
       " 'bool',\n",
       " 'boolean_mask',\n",
       " 'broadcast_dynamic_shape',\n",
       " 'broadcast_static_shape',\n",
       " 'case',\n",
       " 'cast',\n",
       " 'ceil',\n",
       " 'check_numerics',\n",
       " 'cholesky',\n",
       " 'cholesky_solve',\n",
       " 'clip_by_average_norm',\n",
       " 'clip_by_global_norm',\n",
       " 'clip_by_norm',\n",
       " 'clip_by_value',\n",
       " 'compat',\n",
       " 'complex',\n",
       " 'complex128',\n",
       " 'complex64',\n",
       " 'concat',\n",
       " 'cond',\n",
       " 'confusion_matrix',\n",
       " 'conj',\n",
       " 'constant',\n",
       " 'constant_initializer',\n",
       " 'container',\n",
       " 'contrib',\n",
       " 'control_dependencies',\n",
       " 'convert_to_tensor',\n",
       " 'convert_to_tensor_or_indexed_slices',\n",
       " 'convert_to_tensor_or_sparse_tensor',\n",
       " 'cos',\n",
       " 'count_nonzero',\n",
       " 'count_up_to',\n",
       " 'create_partitioned_variables',\n",
       " 'cross',\n",
       " 'cumprod',\n",
       " 'cumsum',\n",
       " 'decode_base64',\n",
       " 'decode_csv',\n",
       " 'decode_json_example',\n",
       " 'decode_raw',\n",
       " 'delete_session_tensor',\n",
       " 'depth_to_space',\n",
       " 'dequantize',\n",
       " 'deserialize_many_sparse',\n",
       " 'device',\n",
       " 'diag',\n",
       " 'diag_part',\n",
       " 'digamma',\n",
       " 'div',\n",
       " 'divide',\n",
       " 'double',\n",
       " 'dynamic_partition',\n",
       " 'dynamic_stitch',\n",
       " 'edit_distance',\n",
       " 'einsum',\n",
       " 'encode_base64',\n",
       " 'equal',\n",
       " 'erf',\n",
       " 'erfc',\n",
       " 'errors',\n",
       " 'estimator',\n",
       " 'exp',\n",
       " 'expand_dims',\n",
       " 'expm1',\n",
       " 'extract_image_patches',\n",
       " 'eye',\n",
       " 'fake_quant_with_min_max_args',\n",
       " 'fake_quant_with_min_max_args_gradient',\n",
       " 'fake_quant_with_min_max_vars',\n",
       " 'fake_quant_with_min_max_vars_gradient',\n",
       " 'fake_quant_with_min_max_vars_per_channel',\n",
       " 'fake_quant_with_min_max_vars_per_channel_gradient',\n",
       " 'feature_column',\n",
       " 'fft',\n",
       " 'fft2d',\n",
       " 'fft3d',\n",
       " 'fill',\n",
       " 'fixed_size_partitioner',\n",
       " 'flags',\n",
       " 'float16',\n",
       " 'float32',\n",
       " 'float64',\n",
       " 'floor',\n",
       " 'floor_div',\n",
       " 'floordiv',\n",
       " 'floormod',\n",
       " 'foldl',\n",
       " 'foldr',\n",
       " 'gather',\n",
       " 'gather_nd',\n",
       " 'get_collection',\n",
       " 'get_collection_ref',\n",
       " 'get_default_graph',\n",
       " 'get_default_session',\n",
       " 'get_local_variable',\n",
       " 'get_seed',\n",
       " 'get_session_handle',\n",
       " 'get_session_tensor',\n",
       " 'get_variable',\n",
       " 'get_variable_scope',\n",
       " 'gfile',\n",
       " 'global_norm',\n",
       " 'global_variables',\n",
       " 'global_variables_initializer',\n",
       " 'gradients',\n",
       " 'graph_util',\n",
       " 'greater',\n",
       " 'greater_equal',\n",
       " 'group',\n",
       " 'half',\n",
       " 'hessians',\n",
       " 'histogram_fixed_width',\n",
       " 'identity',\n",
       " 'ifft',\n",
       " 'ifft2d',\n",
       " 'ifft3d',\n",
       " 'igamma',\n",
       " 'igammac',\n",
       " 'imag',\n",
       " 'image',\n",
       " 'import_graph_def',\n",
       " 'initialize_all_tables',\n",
       " 'initialize_all_variables',\n",
       " 'initialize_local_variables',\n",
       " 'initialize_variables',\n",
       " 'int16',\n",
       " 'int32',\n",
       " 'int64',\n",
       " 'int8',\n",
       " 'invert_permutation',\n",
       " 'is_finite',\n",
       " 'is_inf',\n",
       " 'is_nan',\n",
       " 'is_non_decreasing',\n",
       " 'is_numeric_tensor',\n",
       " 'is_strictly_increasing',\n",
       " 'is_variable_initialized',\n",
       " 'layers',\n",
       " 'lbeta',\n",
       " 'less',\n",
       " 'less_equal',\n",
       " 'lgamma',\n",
       " 'lin_space',\n",
       " 'linspace',\n",
       " 'load_file_system_library',\n",
       " 'load_op_library',\n",
       " 'local_variables',\n",
       " 'local_variables_initializer',\n",
       " 'log',\n",
       " 'log1p',\n",
       " 'log_sigmoid',\n",
       " 'logging',\n",
       " 'logical_and',\n",
       " 'logical_not',\n",
       " 'logical_or',\n",
       " 'logical_xor',\n",
       " 'losses',\n",
       " 'make_ndarray',\n",
       " 'make_template',\n",
       " 'make_tensor_proto',\n",
       " 'map_fn',\n",
       " 'matching_files',\n",
       " 'matmul',\n",
       " 'matrix_band_part',\n",
       " 'matrix_determinant',\n",
       " 'matrix_diag',\n",
       " 'matrix_diag_part',\n",
       " 'matrix_inverse',\n",
       " 'matrix_set_diag',\n",
       " 'matrix_solve',\n",
       " 'matrix_solve_ls',\n",
       " 'matrix_transpose',\n",
       " 'matrix_triangular_solve',\n",
       " 'maximum',\n",
       " 'meshgrid',\n",
       " 'metrics',\n",
       " 'min_max_variable_partitioner',\n",
       " 'minimum',\n",
       " 'mod',\n",
       " 'model_variables',\n",
       " 'moving_average_variables',\n",
       " 'multinomial',\n",
       " 'multiply',\n",
       " 'name_scope',\n",
       " 'negative',\n",
       " 'newaxis',\n",
       " 'nn',\n",
       " 'no_op',\n",
       " 'no_regularizer',\n",
       " 'norm',\n",
       " 'not_equal',\n",
       " 'one_hot',\n",
       " 'ones',\n",
       " 'ones_initializer',\n",
       " 'ones_like',\n",
       " 'op_scope',\n",
       " 'orthogonal_initializer',\n",
       " 'pad',\n",
       " 'parallel_stack',\n",
       " 'parse_example',\n",
       " 'parse_single_example',\n",
       " 'parse_single_sequence_example',\n",
       " 'parse_tensor',\n",
       " 'placeholder',\n",
       " 'placeholder_with_default',\n",
       " 'polygamma',\n",
       " 'pow',\n",
       " 'py_func',\n",
       " 'python_io',\n",
       " 'pywrap_tensorflow',\n",
       " 'qint16',\n",
       " 'qint32',\n",
       " 'qint8',\n",
       " 'qr',\n",
       " 'quantize_v2',\n",
       " 'quantized_concat',\n",
       " 'quint16',\n",
       " 'quint8',\n",
       " 'random_crop',\n",
       " 'random_gamma',\n",
       " 'random_normal',\n",
       " 'random_normal_initializer',\n",
       " 'random_poisson',\n",
       " 'random_shuffle',\n",
       " 'random_uniform',\n",
       " 'random_uniform_initializer',\n",
       " 'range',\n",
       " 'rank',\n",
       " 'read_file',\n",
       " 'real',\n",
       " 'realdiv',\n",
       " 'reciprocal',\n",
       " 'reduce_all',\n",
       " 'reduce_any',\n",
       " 'reduce_join',\n",
       " 'reduce_logsumexp',\n",
       " 'reduce_max',\n",
       " 'reduce_mean',\n",
       " 'reduce_min',\n",
       " 'reduce_prod',\n",
       " 'reduce_sum',\n",
       " 'register_tensor_conversion_function',\n",
       " 'report_uninitialized_variables',\n",
       " 'required_space_to_batch_paddings',\n",
       " 'reset_default_graph',\n",
       " 'reshape',\n",
       " 'resource',\n",
       " 'resource_loader',\n",
       " 'reverse',\n",
       " 'reverse_sequence',\n",
       " 'reverse_v2',\n",
       " 'rint',\n",
       " 'round',\n",
       " 'rsqrt',\n",
       " 'saturate_cast',\n",
       " 'saved_model',\n",
       " 'scalar_mul',\n",
       " 'scan',\n",
       " 'scatter_add',\n",
       " 'scatter_div',\n",
       " 'scatter_mul',\n",
       " 'scatter_nd',\n",
       " 'scatter_nd_add',\n",
       " 'scatter_nd_sub',\n",
       " 'scatter_nd_update',\n",
       " 'scatter_sub',\n",
       " 'scatter_update',\n",
       " 'segment_max',\n",
       " 'segment_mean',\n",
       " 'segment_min',\n",
       " 'segment_prod',\n",
       " 'segment_sum',\n",
       " 'self_adjoint_eig',\n",
       " 'self_adjoint_eigvals',\n",
       " 'sequence_mask',\n",
       " 'serialize_many_sparse',\n",
       " 'serialize_sparse',\n",
       " 'set_random_seed',\n",
       " 'setdiff1d',\n",
       " 'sets',\n",
       " 'shape',\n",
       " 'shape_n',\n",
       " 'sigmoid',\n",
       " 'sign',\n",
       " 'sin',\n",
       " 'size',\n",
       " 'slice',\n",
       " 'space_to_batch',\n",
       " 'space_to_batch_nd',\n",
       " 'space_to_depth',\n",
       " 'sparse_add',\n",
       " 'sparse_concat',\n",
       " 'sparse_fill_empty_rows',\n",
       " 'sparse_mask',\n",
       " 'sparse_matmul',\n",
       " 'sparse_maximum',\n",
       " 'sparse_merge',\n",
       " 'sparse_minimum',\n",
       " 'sparse_placeholder',\n",
       " 'sparse_reduce_sum',\n",
       " 'sparse_reduce_sum_sparse',\n",
       " 'sparse_reorder',\n",
       " 'sparse_reset_shape',\n",
       " 'sparse_reshape',\n",
       " 'sparse_retain',\n",
       " 'sparse_segment_mean',\n",
       " 'sparse_segment_sqrt_n',\n",
       " 'sparse_segment_sum',\n",
       " 'sparse_softmax',\n",
       " 'sparse_split',\n",
       " 'sparse_tensor_dense_matmul',\n",
       " 'sparse_tensor_to_dense',\n",
       " 'sparse_to_dense',\n",
       " 'sparse_to_indicator',\n",
       " 'sparse_transpose',\n",
       " 'spectral',\n",
       " 'split',\n",
       " 'sqrt',\n",
       " 'square',\n",
       " 'squared_difference',\n",
       " 'squeeze',\n",
       " 'stack',\n",
       " 'stop_gradient',\n",
       " 'strided_slice',\n",
       " 'string',\n",
       " 'string_join',\n",
       " 'string_split',\n",
       " 'string_to_hash_bucket',\n",
       " 'string_to_hash_bucket_fast',\n",
       " 'string_to_hash_bucket_strong',\n",
       " 'string_to_number',\n",
       " 'substr',\n",
       " 'subtract',\n",
       " 'summary',\n",
       " 'svd',\n",
       " 'sysconfig',\n",
       " 'tables_initializer',\n",
       " 'tan',\n",
       " 'tanh',\n",
       " 'tensordot',\n",
       " 'test',\n",
       " 'tile',\n",
       " 'to_bfloat16',\n",
       " 'to_double',\n",
       " 'to_float',\n",
       " 'to_int32',\n",
       " 'to_int64',\n",
       " 'trace',\n",
       " 'train',\n",
       " 'trainable_variables',\n",
       " 'transpose',\n",
       " 'truediv',\n",
       " 'truncated_normal',\n",
       " 'truncated_normal_initializer',\n",
       " 'truncatediv',\n",
       " 'truncatemod',\n",
       " 'tuple',\n",
       " 'uint16',\n",
       " 'uint8',\n",
       " 'uniform_unit_scaling_initializer',\n",
       " 'unique',\n",
       " 'unique_with_counts',\n",
       " 'unsorted_segment_max',\n",
       " 'unsorted_segment_sum',\n",
       " 'unstack',\n",
       " 'user_ops',\n",
       " 'variable_axis_size_partitioner',\n",
       " 'variable_op_scope',\n",
       " 'variable_scope',\n",
       " 'variables_initializer',\n",
       " 'verify_tensor_all_finite',\n",
       " 'where',\n",
       " 'while_loop',\n",
       " 'write_file',\n",
       " 'zeros',\n",
       " 'zeros_initializer',\n",
       " 'zeros_like',\n",
       " 'zeta']"
      ]
     },
     "execution_count": 7,
     "metadata": {},
     "output_type": "execute_result"
    }
   ],
   "source": [
    "dir(tf)"
   ]
  },
  {
   "cell_type": "code",
   "execution_count": 8,
   "metadata": {
    "collapsed": false
   },
   "outputs": [
    {
     "data": {
      "text/plain": [
       "'1.2.1'"
      ]
     },
     "execution_count": 8,
     "metadata": {},
     "output_type": "execute_result"
    }
   ],
   "source": [
    "tf.__version__"
   ]
  },
  {
   "cell_type": "code",
   "execution_count": 5,
   "metadata": {
    "collapsed": false
   },
   "outputs": [
    {
     "name": "stdout",
     "output_type": "stream",
     "text": [
      "Testing shapes of tf.concat!\n",
      "(6, 4)\n",
      "(3, 8)\n"
     ]
    }
   ],
   "source": [
    "def test_tf_concat():\n",
    "    print (\"Testing shapes of tf.concat!\")\n",
    "    x = tf.Variable(np.arange(12).reshape([3,4]), dtype=tf.float32)\n",
    "    y = tf.Variable(np.arange(12).reshape([3,4]), dtype=tf.float32)\n",
    "    \n",
    "    sess = tf.Session()\n",
    "    sess.run(tf.global_variables_initializer())\n",
    "    \n",
    "    \n",
    "    print (sess.run(tf.concat([x, y], axis=0)).shape)\n",
    "    print (sess.run(tf.concat([x, y], axis=1)).shape)\n",
    "    \n",
    "test_tf_concat()"
   ]
  },
  {
   "cell_type": "code",
   "execution_count": 8,
   "metadata": {
    "collapsed": false
   },
   "outputs": [
    {
     "name": "stdout",
     "output_type": "stream",
     "text": [
      "[[  1.   2.   3.   4.]\n",
      " [  5.   6.   7.   8.]\n",
      " [  9.  10.  11.  12.]]\n",
      "[[  1.   2.   3.   4.]\n",
      " [  5.   6.   7.   8.]\n",
      " [  9.  10.  11.  12.]]\n"
     ]
    }
   ],
   "source": [
    "def test_tf_broadcast():\n",
    "    Wx = tf.Variable(np.arange(12).reshape([3,4]), dtype=tf.float32)\n",
    "    b1 = tf.ones([3,1])\n",
    "    b2 = tf.ones([1,4])\n",
    "    \n",
    "    sess = tf.Session()\n",
    "    sess.run(tf.global_variables_initializer())\n",
    "    \n",
    "    print (sess.run(Wx + b1))\n",
    "    print (sess.run(Wx + b2))\n",
    "    \n",
    "test_tf_broadcast()"
   ]
  },
  {
   "cell_type": "code",
   "execution_count": 12,
   "metadata": {
    "collapsed": false
   },
   "outputs": [
    {
     "name": "stdout",
     "output_type": "stream",
     "text": [
      "[[ 1.  0.  0.  0.  0.]\n",
      " [ 1.  0.  0.  0.  0.]]\n"
     ]
    }
   ],
   "source": [
    "def _const(shape, dtype):\n",
    "    \n",
    "    d1 = shape[0]\n",
    "    d2 = shape[1]\n",
    "    tmp = np.zeros(shape=shape)\n",
    "    \n",
    "    tmp[:, 0] = np.ones(shape=[d1,])\n",
    "    return tf.constant(tmp, dtype=dtype)\n",
    "\n",
    "sess = tf.Session()\n",
    "sess.run(tf.global_variables_initializer())\n",
    "b = _const([2,5], tf.float32)\n",
    "print (sess.run(b))"
   ]
  },
  {
   "cell_type": "code",
   "execution_count": 19,
   "metadata": {
    "collapsed": false
   },
   "outputs": [
    {
     "name": "stdout",
     "output_type": "stream",
     "text": [
      "[[[ 0  1  4]]\n",
      "\n",
      " [[ 9 16 25]]]\n",
      "shape is (2, 1, 3)\n",
      "\n",
      "[[[ 0  1  4]]\n",
      "\n",
      " [[ 9 16 25]]]\n",
      "shape is (2, 1, 3)\n",
      "\n"
     ]
    }
   ],
   "source": [
    "def test_elementwise_mult():\n",
    "    x = tf.Variable(np.arange(6).reshape([2,1,3]))\n",
    "    y = tf.Variable(np.arange(6).reshape([2,1,3])) # x and y has to be of the same shape\n",
    "    m1 = tf.multiply(x, y)\n",
    "    m2 = x * y\n",
    "    \n",
    "    sess = tf.Session()\n",
    "    sess.run(tf.global_variables_initializer())\n",
    "    \n",
    "    res1 = sess.run(m1)\n",
    "    print (res1)\n",
    "    print (\"shape is {}\\n\".format(res1.shape))\n",
    "    res2 = sess.run(m2)\n",
    "    print (res2)\n",
    "    print (\"shape is {}\\n\".format(res2.shape))\n",
    "    \n",
    "    \n",
    "test_elementwise_mult()"
   ]
  },
  {
   "cell_type": "code",
   "execution_count": 3,
   "metadata": {
    "collapsed": false
   },
   "outputs": [
    {
     "ename": "ValueError",
     "evalue": "The truth value of an array with more than one element is ambiguous. Use a.any() or a.all()",
     "output_type": "error",
     "traceback": [
      "\u001b[0;31m---------------------------------------------------------------------------\u001b[0m",
      "\u001b[0;31mValueError\u001b[0m                                Traceback (most recent call last)",
      "\u001b[0;32m<ipython-input-3-0d3d0f85f690>\u001b[0m in \u001b[0;36m<module>\u001b[0;34m()\u001b[0m\n\u001b[1;32m      2\u001b[0m     \u001b[0;32mreturn\u001b[0m \u001b[0mnp\u001b[0m\u001b[0;34m.\u001b[0m\u001b[0mrandom\u001b[0m\u001b[0;34m.\u001b[0m\u001b[0mchoice\u001b[0m\u001b[0;34m(\u001b[0m\u001b[0;36m4\u001b[0m\u001b[0;34m,\u001b[0m \u001b[0;36m1\u001b[0m\u001b[0;34m,\u001b[0m \u001b[0mnp\u001b[0m\u001b[0;34m.\u001b[0m\u001b[0marray\u001b[0m\u001b[0;34m(\u001b[0m\u001b[0;34m[\u001b[0m\u001b[0;36m0.25\u001b[0m\u001b[0;34m]\u001b[0m \u001b[0;34m*\u001b[0m \u001b[0;36m4\u001b[0m\u001b[0;34m)\u001b[0m\u001b[0;34m.\u001b[0m\u001b[0mreshape\u001b[0m\u001b[0;34m(\u001b[0m\u001b[0;34m[\u001b[0m\u001b[0;36m1\u001b[0m\u001b[0;34m,\u001b[0m\u001b[0;36m4\u001b[0m\u001b[0;34m]\u001b[0m\u001b[0;34m)\u001b[0m\u001b[0;34m)\u001b[0m\u001b[0;34m\u001b[0m\u001b[0m\n\u001b[1;32m      3\u001b[0m \u001b[0;34m\u001b[0m\u001b[0m\n\u001b[0;32m----> 4\u001b[0;31m \u001b[0mtest_random_choice\u001b[0m\u001b[0;34m(\u001b[0m\u001b[0;34m)\u001b[0m\u001b[0;34m\u001b[0m\u001b[0m\n\u001b[0m",
      "\u001b[0;32m<ipython-input-3-0d3d0f85f690>\u001b[0m in \u001b[0;36mtest_random_choice\u001b[0;34m()\u001b[0m\n\u001b[1;32m      1\u001b[0m \u001b[0;32mdef\u001b[0m \u001b[0mtest_random_choice\u001b[0m\u001b[0;34m(\u001b[0m\u001b[0;34m)\u001b[0m\u001b[0;34m:\u001b[0m\u001b[0;34m\u001b[0m\u001b[0m\n\u001b[0;32m----> 2\u001b[0;31m     \u001b[0;32mreturn\u001b[0m \u001b[0mnp\u001b[0m\u001b[0;34m.\u001b[0m\u001b[0mrandom\u001b[0m\u001b[0;34m.\u001b[0m\u001b[0mchoice\u001b[0m\u001b[0;34m(\u001b[0m\u001b[0;36m4\u001b[0m\u001b[0;34m,\u001b[0m \u001b[0;36m1\u001b[0m\u001b[0;34m,\u001b[0m \u001b[0mnp\u001b[0m\u001b[0;34m.\u001b[0m\u001b[0marray\u001b[0m\u001b[0;34m(\u001b[0m\u001b[0;34m[\u001b[0m\u001b[0;36m0.25\u001b[0m\u001b[0;34m]\u001b[0m \u001b[0;34m*\u001b[0m \u001b[0;36m4\u001b[0m\u001b[0;34m)\u001b[0m\u001b[0;34m.\u001b[0m\u001b[0mreshape\u001b[0m\u001b[0;34m(\u001b[0m\u001b[0;34m[\u001b[0m\u001b[0;36m1\u001b[0m\u001b[0;34m,\u001b[0m\u001b[0;36m4\u001b[0m\u001b[0;34m]\u001b[0m\u001b[0;34m)\u001b[0m\u001b[0;34m)\u001b[0m\u001b[0;34m\u001b[0m\u001b[0m\n\u001b[0m\u001b[1;32m      3\u001b[0m \u001b[0;34m\u001b[0m\u001b[0m\n\u001b[1;32m      4\u001b[0m \u001b[0mtest_random_choice\u001b[0m\u001b[0;34m(\u001b[0m\u001b[0;34m)\u001b[0m\u001b[0;34m\u001b[0m\u001b[0m\n",
      "\u001b[0;32mmtrand.pyx\u001b[0m in \u001b[0;36mmtrand.RandomState.choice (numpy/random/mtrand/mtrand.c:17913)\u001b[0;34m()\u001b[0m\n",
      "\u001b[0;31mValueError\u001b[0m: The truth value of an array with more than one element is ambiguous. Use a.any() or a.all()"
     ]
    }
   ],
   "source": [
    "def test_random_choice():\n",
    "    return np.random.choice(4, 1, np.array([0.25] * 4).reshape([1,4]))\n",
    "    \n",
    "test_random_choice()"
   ]
  },
  {
   "cell_type": "code",
   "execution_count": null,
   "metadata": {
    "collapsed": true
   },
   "outputs": [],
   "source": []
  }
 ],
 "metadata": {
  "kernelspec": {
   "display_name": "Python 3",
   "language": "python",
   "name": "python3"
  },
  "language_info": {
   "codemirror_mode": {
    "name": "ipython",
    "version": 3
   },
   "file_extension": ".py",
   "mimetype": "text/x-python",
   "name": "python",
   "nbconvert_exporter": "python",
   "pygments_lexer": "ipython3",
   "version": "3.5.2"
  }
 },
 "nbformat": 4,
 "nbformat_minor": 2
}
