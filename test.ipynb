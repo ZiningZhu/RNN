{
 "cells": [
  {
   "cell_type": "code",
   "execution_count": 2,
   "metadata": {
    "collapsed": true
   },
   "outputs": [],
   "source": [
    "import tensorflow as tf\n",
    "import numpy as np\n"
   ]
  },
  {
   "cell_type": "code",
   "execution_count": 9,
   "metadata": {},
   "outputs": [
    {
     "name": "stdout",
     "output_type": "stream",
     "text": [
      "s=[ 0.40460971  0.14884759  0.14884759  0.14884759  0.14884759]\n",
      "1.56261\n"
     ]
    }
   ],
   "source": [
    "def test_cross_entropy():\n",
    "    t = tf.Variable([1,0,0,0,0], dtype=tf.float32)\n",
    "    l = tf.Variable([1,0,0,0,0], dtype=tf.float32)\n",
    "    \n",
    "    s = tf.nn.softmax(t)\n",
    "    y = tf.nn.softmax_cross_entropy_with_logits(labels=s, logits=s)\n",
    "    sess = tf.Session()\n",
    "    sess.run(tf.global_variables_initializer())\n",
    "    \n",
    "    print (\"s={}\".format(sess.run(s)))\n",
    "    print (sess.run(y))\n",
    "    \n",
    "test_cross_entropy()\n"
   ]
  },
  {
   "cell_type": "code",
   "execution_count": 3,
   "metadata": {},
   "outputs": [
    {
     "name": "stdout",
     "output_type": "stream",
     "text": [
      "t_arr.shape is (2, 4)\n",
      "s1=[[ 0.47536692  0.17487772  0.17487772  0.17487772]\n",
      " [ 0.47536692  0.17487772  0.17487772  0.17487772]], shape (2, 4)\n",
      "s2=[[ 0.5  0.5  0.5  0.5]\n",
      " [ 0.5  0.5  0.5  0.5]], shape (2, 4)\n",
      "s3=[[ 0.47536692  0.17487772  0.17487772  0.17487772]\n",
      " [ 0.47536692  0.17487772  0.17487772  0.17487772]], shape (2, 4)\n"
     ]
    }
   ],
   "source": [
    "def test_softmax():\n",
    "    \n",
    "    t_arr = np.array([[1,0,0,0], [1,0,0,0]])\n",
    "    print (\"t_arr.shape is {}\".format(t_arr.shape))\n",
    "    t = tf.Variable(np.array(t_arr), dtype=tf.float32)\n",
    "   \n",
    "    \n",
    "    s1 = tf.nn.softmax(t) # Softmax on last dimension\n",
    "    s2 = tf.nn.softmax(t, dim=0) \n",
    "    s3 = tf.nn.softmax(t, dim=1)\n",
    "    #y = tf.nn.softmax_cross_entropy_with_logits(labels=s, logits=s)\n",
    "    sess = tf.Session()\n",
    "    sess.run(tf.global_variables_initializer())\n",
    "    \n",
    "    print (\"s1={}, shape {}\".format(sess.run(s1), sess.run(s1).shape))\n",
    "    print (\"s2={}, shape {}\".format(sess.run(s2), sess.run(s2).shape))\n",
    "    print (\"s3={}, shape {}\".format(sess.run(s3), sess.run(s3).shape))\n",
    "    \n",
    "    \n",
    "test_softmax()"
   ]
  },
  {
   "cell_type": "code",
   "execution_count": 6,
   "metadata": {},
   "outputs": [
    {
     "name": "stdout",
     "output_type": "stream",
     "text": [
      "s1=66.0\n",
      "s2=[ 12.  15.  18.  21.]\n",
      "s3=[  6.  22.  38.]\n"
     ]
    }
   ],
   "source": [
    "def test_reduce_mean():\n",
    "    logits = tf.Variable(np.arange(12).reshape([3,4]), dtype=tf.float32)\n",
    "    s1 = tf.reduce_mean(logits) # shape (). Collapses all axes\n",
    "    s2 = tf.reduce_mean(logits, axis=0) # shape (4,)\n",
    "    s3 = tf.reduce_mean(logits, axis=1) # shape (3,)\n",
    "    sess = tf.Session()\n",
    "    sess.run(tf.global_variables_initializer())\n",
    "    \n",
    "    print (\"s1={}\".format(sess.run(s1)))\n",
    "    print (\"s2={}\".format(sess.run(s2)))\n",
    "    print (\"s3={}\".format(sess.run(s3)))\n",
    "    \n",
    "test_reduce_sum()"
   ]
  },
  {
   "cell_type": "code",
   "execution_count": 7,
   "metadata": {},
   "outputs": [
    {
     "name": "stdout",
     "output_type": "stream",
     "text": [
      "inputs is [[  0.   1.   2.   3.]\n",
      " [  4.   5.   6.   7.]\n",
      " [  8.   9.  10.  11.]], shape (3, 4)\n",
      "xs[0]=[[ 0.  1.  2.  3.]]\n",
      "xs[1]=[[ 4.  5.  6.  7.]]\n",
      "xs[2]=[[  8.   9.  10.  11.]]\n"
     ]
    }
   ],
   "source": [
    "def test_split():\n",
    "    inputs = tf.Variable(np.arange(12).reshape([3,4]), dtype=tf.float32)\n",
    "    seq_length = 3\n",
    "    ts = []\n",
    "    xs = []\n",
    "    split_result = tf.split(inputs, seq_length, axis=0)\n",
    "    for t, xs_t in enumerate(split_result):\n",
    "        ts.append(t)\n",
    "        xs.append(xs_t)\n",
    "        \n",
    "    sess = tf.Session()\n",
    "    sess.run(tf.global_variables_initializer())\n",
    "    \n",
    "    print (\"inputs is {}, shape {}\".format(sess.run(inputs), sess.run(inputs).shape))\n",
    "    for i in ts:\n",
    "        print (\"xs[{}]={}\".format(ts[i], sess.run(xs[i])))\n",
    "    \n",
    "    \n",
    "    \n",
    "test_split()"
   ]
  },
  {
   "cell_type": "code",
   "execution_count": null,
   "metadata": {
    "collapsed": true
   },
   "outputs": [],
   "source": []
  }
 ],
 "metadata": {
  "kernelspec": {
   "display_name": "Python 3",
   "language": "python",
   "name": "python3"
  },
  "language_info": {
   "codemirror_mode": {
    "name": "ipython",
    "version": 3
   },
   "file_extension": ".py",
   "mimetype": "text/x-python",
   "name": "python",
   "nbconvert_exporter": "python",
   "pygments_lexer": "ipython3",
   "version": "3.5.2"
  }
 },
 "nbformat": 4,
 "nbformat_minor": 2
}
