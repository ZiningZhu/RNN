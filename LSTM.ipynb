{
 "cells": [
  {
   "cell_type": "code",
   "execution_count": 1,
   "metadata": {
    "collapsed": true
   },
   "outputs": [],
   "source": [
    "import tensorflow as tf\n",
    "import numpy as np\n",
    "import matplotlib.pyplot as plt\n",
    "from bs4 import BeautifulSoup\n",
    "import os\n",
    "import re\n",
    "import pandas as pd\n",
    "%matplotlib inline"
   ]
  },
  {
   "cell_type": "code",
   "execution_count": 2,
   "metadata": {
    "collapsed": true
   },
   "outputs": [],
   "source": [
    "def vocab2vec(vocab_size, vocab_length=10**7):\n",
    "    f = open(\"Combined_String.txt\", \"r\")\n",
    "    s = f.read()\n",
    "    f.close()\n",
    "    D = 'abcdefghijklmnopqrstuvwxyz .,\\'1234567890\";'\n",
    "    res = []\n",
    "    for i in range(vocab_length):\n",
    "        c = s[i].lower()\n",
    "        v = np.zeros((vocab_size))\n",
    "        try:\n",
    "            idx = D.index(c)\n",
    "            v[idx] = 1\n",
    "            res.append(v)\n",
    "        except (ValueError, IndexError) as e:\n",
    "            pass\n",
    "        \n",
    "        \n",
    "    ret = np.array(res) # A list of shape (vocab_length,) one-hot encoded characters\n",
    "    print (\"shape is: {}\".format(ret.shape))\n",
    "    return ret\n",
    "\n",
    "#vocab2vec(40)"
   ]
  },
  {
   "cell_type": "markdown",
   "metadata": {
    "collapsed": true
   },
   "source": [
    "# What is LSTM? #  \n",
    "- [Nico's blog on LSTM](http://nicodjimenez.github.io/2014/08/08/lstm.html)  \n",
    "- [Colah's blog on LSTM](http://colah.github.io/posts/2015-08-Understanding-LSTMs)  \n",
    "- Written in equation:\n",
    "    Each LSTM cell has three inputs (character $x_t$, cell prediction $h_{t-1}$, and hidden state $C_{t-1}$) and two outputs (hidden state $C_t$ and cell prediction $h_t$).  \n",
    "    Forget gate: \n",
    "    $$f_t = \\sigma (W_f [h_{t-1}, x_t] + b_f)$$   \n",
    "    Information gate: \n",
    "    $$i_t = \\sigma (W_i [h_{t-1}, x_t] + b_i)$$  \n",
    "    Updates for cell state:\n",
    "    $$D_t = tanh (W_D [h_{t-1}, x_t] + b_D)$$  \n",
    "    $$C_t = f_t * C_{t-1} + i_t * D_t$$\n",
    "    Output layers:  \n",
    "    $$o_t = \\sigma (W_o [h_{t-1}, x_t] + b_o)$$\n",
    "    $$h_t = o_t * tanh(C_t)$$\n",
    "    \n",
    "- Training goal:  \n",
    "    $argmin_W J$, where\n",
    "    $$J = \\sum_t (y_t log h_t)$$"
   ]
  },
  {
   "cell_type": "markdown",
   "metadata": {},
   "source": [
    "**LSTM used for reading paragraphs character by character**\n",
    "- Cell prediction is the next (batch of) character, given the input and previous states.\n",
    "- The first character in prediction sequence is used to calculate the cross entropy.\n",
    "\n",
    "\n",
    "**Existing code examples:**  \n",
    "- [Aymeric Damien's TensorFlow-Examples](https://github.com/aymericdamien/TensorFlow-Examples/blob/master/examples/3_NeuralNetworks/recurrent_network.py)  "
   ]
  },
  {
   "cell_type": "code",
   "execution_count": null,
   "metadata": {
    "collapsed": true
   },
   "outputs": [],
   "source": [
    "# My implementation of LSTM on character reading - based on the equation above\n",
    "\n",
    "class basicLSTM:\n",
    "    def __init__(self, vocab_size, cell_size, batch_size, continue_training, global_step):\n",
    "        self._construct_networks(continue_training, global_step)\n",
    "        self.global_step = global_step\n",
    "        self.MODEL_NAME = \"LSTM\"\n",
    "        \n",
    "    def _weight(self, shape, dtype=tf.float32, name):\n",
    "        m = 0\n",
    "        s = 0.01\n",
    "        return tf.Variable(tf.random_normal(shape=shape, mean=m, stddev=s, dtype), dtype, name=name)\n",
    "    \n",
    "    def _const(self, shape, dtype, name):\n",
    "        d1 = shape[0]\n",
    "        d2 = shape[1]\n",
    "        tmp = np.zeros(shape=shape)\n",
    "\n",
    "        tmp[:, 0] = np.ones(shape=[d1,])\n",
    "        return tf.constant(tmp, dtype=dtype, name=name)\n",
    "\n",
    "    def _construct_networks(self, continue_training, global_step):\n",
    "        x = tf.placeholder([batch_size, vocab_size], name=\"x\")\n",
    "        y = tf.placeholder([batch_size, vocab_size], name=\"y\")\n",
    "        init_C = tf.placeholder([batch_size, cell_size], name=\"init_C\")\n",
    "        init_h = tf.placeholder([batch_size, vocab_size], name=\"init_h\")\n",
    "        \n",
    "        if not continue_training:\n",
    "            # Fotget gate\n",
    "            Wf = self._weight([2 * vocab_size, cell_size], name=\"Wf\")\n",
    "            bf = self._const([1, cell_size], name=\"bf\")\n",
    "            f = tf.nn.softmax(tf.matmul(tf.concat([init_h, x], axis=1), Wf) + bf, dim=1)\n",
    "\n",
    "            # Info gate\n",
    "            Wi = self._weight([2 * vocab_size, cell_size], name=\"Wi\")\n",
    "            bi = self._const([[1, cell_size]], name=\"bi\")\n",
    "            i = tf.nn.softmax(tf.matmul(tf.concat([init_h, x], axis=1), Wi) + bi, dim=1)\n",
    "\n",
    "            # Next cell state\n",
    "            Wd = self._weight([2 * vocab_size, cell_size], name=\"Wd\")\n",
    "            bd = self._const([1, cell_size], name=\"bd\")\n",
    "            D = tf.tanh(tf.matmul(tf.concat([init_h, x], axis=1), Wd) + bd)\n",
    "\n",
    "            # Update cell state\n",
    "            C = tf.add(f * init_C, i * D, name=\"C\")\n",
    "\n",
    "            # Output layers\n",
    "            Wo = self._weight([2 * vocab_size, cell_size], name=\"Wo\")\n",
    "            bo = self._const([1, cell_size], name=\"bo\")\n",
    "            o = tf.nn.softmax(tf.matmul(tf.concat([init_h, x], axis=1), Wo) + bo, dim=1)\n",
    "            h = tf.multiply(o, tf.tanh(C), name=\"h\")\n",
    "            \n",
    "            # Loss function, etc\n",
    "            hs = tf.nn.softmax(h, dim=1) # Convert h into softmax form\n",
    "            J = tf.nn.softmax_cross_entropy_with_logits(labels=y, logits=hs)\n",
    "            optimizer = tf.train.AdamOptimizer()\n",
    "            grads_and_vars = optimizer.compute_gradients(J)\n",
    "            for grad, var in grads_and_vars:\n",
    "                clipped_grad = tf.clip_by_value(grad, -grad_limit, grad_limit)\n",
    "                clipped_grads_and_vars.append((clipped_grad, var))\n",
    "            train_step = self.optimizer.apply_gradients(clipped_grads_and_vars, name=\"train:0\")\n",
    "\n",
    "\n",
    "            # Session, Saver, etc\n",
    "            saver = tf.train.Saver()\n",
    "            sess = tf.Session()\n",
    "            sess.run(tf.global_variables_initializer())\n",
    "            saver.save(sess, self.MODEL_NAME,global_step=0)\n",
    "            \n",
    "        else:\n",
    "            sess = tf.Session()\n",
    "            \n",
    "            saver = tf.train.import_meta_graph(self.MODEL_NAME + \"-{}.meta\".format(global_step))\n",
    "            saver.restore(sess,tf.train.latest_checkpoint('./'))\n",
    "            \n",
    "            graph = tf.get_default_graph()\n",
    "            \n",
    "            x = graph.get_tensor_by_name(\"x:0\")\n",
    "            y = graph.get_tensor_by_name(\"y:0\")\n",
    "            init_C = graph.get_tensor_by_name(\"init_C:0\")\n",
    "            init_h = graph.get_tensor_by_name(\"init_h:0\")\n",
    "            C = graph.get_tensor_by_name(\"C:0\")\n",
    "            h = graph.get_tensor_by_name(\"h:0\")\n",
    "            Wf = graph.get_tensor_by_name(\"Wf:0\")\n",
    "            Wi = graph.get_tensor_by_name(\"Wi:0\")\n",
    "            Wd = graph.get_tensor_by_name(\"Wd:0\")\n",
    "            Wo = graph.get_tensor_by_name(\"Wo:0\")\n",
    "            \n",
    "            train_step = graph.get_tensor_by_name(\"train:0\")\n",
    "            \n",
    "        \n",
    "        \n",
    "        \n",
    "        return x, y, init_C, init_h, C, h, train_step, saver, sess\n",
    "        \n",
    "\n",
    "        \n",
    "    def train(self):\n",
    "        stp = self.global_step\n",
    "        #TODO\n",
    "    \n",
    "    def evaluate(self):\n",
    "        pass\n",
    "    \n",
    "    "
   ]
  },
  {
   "cell_type": "code",
   "execution_count": null,
   "metadata": {
    "collapsed": true
   },
   "outputs": [],
   "source": []
  },
  {
   "cell_type": "code",
   "execution_count": null,
   "metadata": {
    "collapsed": true
   },
   "outputs": [],
   "source": []
  }
 ],
 "metadata": {
  "kernelspec": {
   "display_name": "Python 3",
   "language": "python",
   "name": "python3"
  },
  "language_info": {
   "codemirror_mode": {
    "name": "ipython",
    "version": 3
   },
   "file_extension": ".py",
   "mimetype": "text/x-python",
   "name": "python",
   "nbconvert_exporter": "python",
   "pygments_lexer": "ipython3",
   "version": "3.5.2"
  }
 },
 "nbformat": 4,
 "nbformat_minor": 2
}
