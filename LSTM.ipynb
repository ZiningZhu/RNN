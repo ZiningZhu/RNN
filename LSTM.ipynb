{
 "cells": [
  {
   "cell_type": "code",
   "execution_count": 1,
   "metadata": {
    "collapsed": true
   },
   "outputs": [],
   "source": [
    "import tensorflow as tf\n",
    "import numpy as np\n",
    "import matplotlib.pyplot as plt\n",
    "from bs4 import BeautifulSoup\n",
    "import os\n",
    "import re\n",
    "import pandas as pd\n",
    "%matplotlib inline"
   ]
  },
  {
   "cell_type": "code",
   "execution_count": 2,
   "metadata": {
    "collapsed": true
   },
   "outputs": [],
   "source": [
    "def vocab2vec(vocab_size, vocab_length=10**7):\n",
    "    f = open(\"Combined_String.txt\", \"r\")\n",
    "    s = f.read()\n",
    "    f.close()\n",
    "    D = 'abcdefghijklmnopqrstuvwxyz .,\\'1234567890\";'\n",
    "    res = []\n",
    "    for i in range(vocab_length):\n",
    "        c = s[i].lower()\n",
    "        v = np.zeros((vocab_size))\n",
    "        try:\n",
    "            idx = D.index(c)\n",
    "            v[idx] = 1\n",
    "            res.append(v)\n",
    "        except (ValueError, IndexError) as e:\n",
    "            pass\n",
    "        \n",
    "        \n",
    "    ret = np.array(res) # A list of shape (vocab_length,) one-hot encoded characters\n",
    "    print (\"shape is: {}\".format(ret.shape))\n",
    "    return ret\n",
    "\n",
    "#vocab2vec(40)"
   ]
  },
  {
   "cell_type": "code",
   "execution_count": null,
   "metadata": {
    "collapsed": true
   },
   "outputs": [],
   "source": [
    "# Nico's blog on LSTM: http://nicodjimenez.github.io/2014/08/08/lstm.html\n",
    "# Colah's blog on LSTM"
   ]
  },
  {
   "cell_type": "code",
   "execution_count": null,
   "metadata": {
    "collapsed": true
   },
   "outputs": [],
   "source": []
  },
  {
   "cell_type": "code",
   "execution_count": null,
   "metadata": {
    "collapsed": true
   },
   "outputs": [],
   "source": []
  },
  {
   "cell_type": "code",
   "execution_count": null,
   "metadata": {
    "collapsed": true
   },
   "outputs": [],
   "source": []
  }
 ],
 "metadata": {
  "kernelspec": {
   "display_name": "Python 3",
   "language": "python",
   "name": "python3"
  },
  "language_info": {
   "codemirror_mode": {
    "name": "ipython",
    "version": 3
   },
   "file_extension": ".py",
   "mimetype": "text/x-python",
   "name": "python",
   "nbconvert_exporter": "python",
   "pygments_lexer": "ipython3",
   "version": "3.5.2"
  }
 },
 "nbformat": 4,
 "nbformat_minor": 2
}
