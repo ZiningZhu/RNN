{
 "cells": [
  {
   "cell_type": "code",
   "execution_count": 1,
   "metadata": {
    "collapsed": true
   },
   "outputs": [],
   "source": [
    "import tensorflow as tf\n",
    "import numpy as np\n",
    "import matplotlib.pyplot as plt\n",
    "from bs4 import BeautifulSoup\n",
    "import os\n",
    "import re\n",
    "import pandas as pd\n",
    "%matplotlib inline"
   ]
  },
  {
   "cell_type": "code",
   "execution_count": 2,
   "metadata": {
    "collapsed": true
   },
   "outputs": [],
   "source": [
    "def vocab2vec(vocab_size, vocab_length=10**7):\n",
    "    f = open(\"Combined_String.txt\", \"r\")\n",
    "    s = f.read()\n",
    "    f.close()\n",
    "    D = 'abcdefghijklmnopqrstuvwxyz .,\\'1234567890\";'\n",
    "    res = []\n",
    "    for i in range(vocab_length):\n",
    "        c = s[i].lower()\n",
    "        v = np.zeros((vocab_size))\n",
    "        try:\n",
    "            idx = D.index(c)\n",
    "            v[idx] = 1\n",
    "            res.append(v)\n",
    "        except (ValueError, IndexError) as e:\n",
    "            pass\n",
    "        \n",
    "        \n",
    "    ret = np.array(res) # A list of shape (vocab_length,) one-hot encoded characters\n",
    "    print (\"shape is: {}\".format(ret.shape))\n",
    "    return ret\n",
    "\n",
    "#vocab2vec(40)"
   ]
  },
  {
   "cell_type": "markdown",
   "metadata": {
    "collapsed": true
   },
   "source": [
    "# What is LSTM? #  \n",
    "- [Nico's blog on LSTM](http://nicodjimenez.github.io/2014/08/08/lstm.html)  \n",
    "- [Colah's blog on LSTM](http://colah.github.io/posts/2015-08-Understanding-LSTMs)  \n",
    "- Written in equation:\n",
    "    Each LSTM cell has three inputs (character $x_t$, cell prediction $h_{t-1}$, and hidden state $C_{t-1}$) and two outputs (hidden state $C_t$ and cell prediction $h_t$).  \n",
    "    Forget gate: \n",
    "    $$f_t = \\sigma (W_f [h_{t-1}, x_t] + b_f)$$   \n",
    "    Information gate: \n",
    "    $$i_t = \\sigma (W_i [h_{t-1}, x_t] + b_i)$$  \n",
    "    Updates for cell state:\n",
    "    $$D_t = tanh (W_D [h_{t-1}, x_t] + b_D)$$  \n",
    "    $$C_t = f_t * C_{t-1} + i_t * D_t$$\n",
    "    Output layers:  \n",
    "    $$o_t = \\sigma (W_o [h_{t-1}, x_t] + b_o)$$\n",
    "    $$h_t = o_t * tanh(C_t)$$\n",
    "    \n",
    "- Training goal: $argmin_W J$, where\n",
    "    $$J = \\sum_t (y_t log h_t)$$"
   ]
  },
  {
   "cell_type": "markdown",
   "metadata": {},
   "source": [
    "**LSTM used for reading paragraphs character by character**\n",
    "- Cell prediction is the next (batch of) character, given the input and previous states.\n",
    "- The first character in prediction sequence is used to calculate the cross entropy.\n",
    "\n",
    "\n",
    "**Existing code examples:**  \n",
    "- [Aymeric Damien's TensorFlow-Examples](https://github.com/aymericdamien/TensorFlow-Examples/blob/master/examples/3_NeuralNetworks/recurrent_network.py)  "
   ]
  },
  {
   "cell_type": "code",
   "execution_count": null,
   "metadata": {
    "collapsed": true
   },
   "outputs": [],
   "source": [
    "# My implementation of LSTM on character reading - based on the equation above\n",
    "\n",
    "class basicLSTM:\n",
    "    def __init__(self, vocab_size, hidden_size, cell_size, batch_size):\n",
    "        self._construct_networks()\n",
    "        \n",
    "    def _construct_networks(self):\n",
    "        x = tf.placeholder([batch_size, vocab_size])\n",
    "        y = tf.placeholder([batch_size, vocab_size])\n",
    "        prev_h = tf.placeholder([batch_size, hidden_size])\n",
    "        \n",
    "        \n",
    "        \n",
    "    \n",
    "    def train(self):\n",
    "        pass\n",
    "    \n",
    "    def evaluate(self):\n",
    "        pass\n",
    "    \n",
    "    "
   ]
  },
  {
   "cell_type": "code",
   "execution_count": null,
   "metadata": {
    "collapsed": true
   },
   "outputs": [],
   "source": []
  },
  {
   "cell_type": "code",
   "execution_count": null,
   "metadata": {
    "collapsed": true
   },
   "outputs": [],
   "source": []
  }
 ],
 "metadata": {
  "kernelspec": {
   "display_name": "Python 3",
   "language": "python",
   "name": "python3"
  },
  "language_info": {
   "codemirror_mode": {
    "name": "ipython",
    "version": 3
   },
   "file_extension": ".py",
   "mimetype": "text/x-python",
   "name": "python",
   "nbconvert_exporter": "python",
   "pygments_lexer": "ipython3",
   "version": "3.5.2"
  }
 },
 "nbformat": 4,
 "nbformat_minor": 2
}
