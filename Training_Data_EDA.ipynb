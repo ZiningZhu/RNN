{
 "cells": [
  {
   "cell_type": "markdown",
   "metadata": {},
   "source": [
    "## Perform an EDA on the training data\n",
    "\n",
    "- [FAIR's 2017 ACL paper](https://research.fb.com/publications/automatically-generating-rhythmic-verse-with-neural-networks/) achieved pretty good result using 34 million character set, with a 3-layer LSTM (2048-dimension hidden layer, and 128 dimension encoding). The model converged in 20 epochs.\n",
    "- I think there might be something wrong with my training data."
   ]
  },
  {
   "cell_type": "code",
   "execution_count": 27,
   "metadata": {
    "collapsed": true
   },
   "outputs": [],
   "source": [
    "import tensorflow as tf\n",
    "gpu_options = tf.GPUOptions(per_process_gpu_memory_fraction=0.333)\n",
    "tf.Session(config=tf.ConfigProto(gpu_options=gpu_options))\n",
    "import numpy as np\n",
    "import matplotlib.pyplot as plt\n",
    "from bs4 import BeautifulSoup\n",
    "import os\n",
    "import re\n",
    "import time\n",
    "import operator\n",
    "import pandas as pd\n",
    "%matplotlib inline\n",
    "import json\n",
    "from sklearn.feature_extraction.text import CountVectorizer, TfidfVectorizer\n",
    "from sklearn.decomposition import NMF, LatentDirichletAllocation\n",
    "import nltk"
   ]
  },
  {
   "cell_type": "code",
   "execution_count": 2,
   "metadata": {
    "collapsed": false
   },
   "outputs": [
    {
     "name": "stdout",
     "output_type": "stream",
     "text": [
      "shape is: (9928579, 40)\n"
     ]
    },
    {
     "data": {
      "text/plain": [
       "array([[ 0.,  0.,  0., ...,  0.,  0.,  0.],\n",
       "       [ 0.,  0.,  0., ...,  0.,  0.,  0.],\n",
       "       [ 0.,  0.,  1., ...,  0.,  0.,  0.],\n",
       "       ..., \n",
       "       [ 0.,  0.,  1., ...,  0.,  0.,  0.],\n",
       "       [ 0.,  0.,  0., ...,  0.,  0.,  0.],\n",
       "       [ 0.,  0.,  0., ...,  0.,  0.,  0.]])"
      ]
     },
     "execution_count": 2,
     "metadata": {},
     "output_type": "execute_result"
    }
   ],
   "source": [
    "# Read in the training data\n",
    "def vocab2vec(vocab_size, vocab_length=10**7):\n",
    "    f = open(\"Combined_String.txt\", \"r\")\n",
    "    s = f.read()\n",
    "    f.close()\n",
    "    D = 'abcdefghijklmnopqrstuvwxyz .,\\'()1234567890\";'\n",
    "    res = []\n",
    "    for i in range(vocab_length):\n",
    "        c = s[i].lower()\n",
    "        v = np.zeros((vocab_size))\n",
    "        try:\n",
    "            idx = D.index(c)\n",
    "            v[idx] = 1\n",
    "            res.append(v)\n",
    "        except (ValueError, IndexError) as e:\n",
    "            pass\n",
    "        \n",
    "        \n",
    "    ret = np.array(res) # A list of shape (vocab_length,) one-hot encoded characters\n",
    "    print (\"shape is: {}\".format(ret.shape))\n",
    "    return ret\n",
    "\n",
    "vocab2vec(40)\n",
    "# Around 10 million characters."
   ]
  },
  {
   "cell_type": "code",
   "execution_count": 4,
   "metadata": {
    "collapsed": false
   },
   "outputs": [
    {
     "name": "stdout",
     "output_type": "stream",
     "text": [
      "character count=235614224\n",
      "len(words)=42632595\n"
     ]
    }
   ],
   "source": [
    "# Read the words\n",
    "def read_words():\n",
    "    f = open(\"Combined_String.txt\", \"r\")\n",
    "    s = f.read().lower()\n",
    "    f.close()\n",
    "    s.replace(\"\\t\", \" \")\n",
    "    s.replace(\"\\n\", \" \")\n",
    "    print (\"character count={}\".format(len(s)))\n",
    "    words = s.split(\" \")\n",
    "    print (\"len(words)={}\".format(len(words)))\n",
    "    f = open(\"combined_word_lists.txt\", \"w+\")\n",
    "    f.write(json.dumps(words))\n",
    "    f.close()\n",
    "    \n",
    "read_words()"
   ]
  },
  {
   "cell_type": "code",
   "execution_count": 15,
   "metadata": {
    "collapsed": false
   },
   "outputs": [
    {
     "name": "stdout",
     "output_type": "stream",
     "text": [
      "Finished sorting words based on frequency in 14.199945211410522 seconds\n"
     ]
    }
   ],
   "source": [
    "# Get the most frequent words\n",
    "f = open(\"combined_word_lists.txt\", \"r\")\n",
    "words = json.loads(f.read())\n",
    "f.close()\n",
    "\n",
    "start_time = time.time()\n",
    "wdict = {}\n",
    "for w in words:\n",
    "    if w not in wdict:\n",
    "        wdict[w] = 1\n",
    "    else:\n",
    "        wdict[w] += 1\n",
    "\n",
    "words_sorted = sorted(wdict.items(), key=operator.itemgetter(1))\n",
    "used_time = time.time() - start_time\n",
    "print (\"Finished sorting words based on frequency in {} seconds\".format(used_time))\n",
    "\n",
    "f = open(\"word_lists_w_frequency\", \"w+\")\n",
    "f.write(json.dumps(words_sorted))\n",
    "f.close()"
   ]
  },
  {
   "cell_type": "code",
   "execution_count": 31,
   "metadata": {
    "collapsed": false
   },
   "outputs": [
    {
     "name": "stdout",
     "output_type": "stream",
     "text": [
      "Top 100 words: ['the', 'and', 'a', 'to', 'was', 'in', 'of', 'i', 'we', 'for', 'is', 'hotel', 'it', 'at', 'room', 'but', 'were', 'on', 'with', 'you', 'very', 'that', 'this', 'not', 'had', 'our', 'are', 'have', 'as', 'from', 'there', 'my', 'they', 'be', 'so', 'would', 'stay', '-', 'all', 'great', 'if', 'staff', 'good', 'one', 'which', 'no', 'an', 'rooms', 'stayed', 'when', 'just', 'only', 'or', 'location', 'get', 'about', 'out', 'us', 'nice', 'breakfast', 'by', 'up', 'also', 'could', 'other', 'some', 'like', 'service', 'night', 'really', 'can', 'did', 'time', 'your', 'than', 'more', 'will', 'clean', 'small', 'place', 'here', 'two', 'even', 'me', 'after', 'what', 'walk', 'been', 'go', 'got', 'bathroom', 'back', 'bed', 'little', '2', 'well', 'hotel.', \"didn't\", 'has', 'much']\n",
      "Top 100 non-stopwords: ['hotel', 'room', 'would', 'stay', '-', 'great', 'staff', 'good', 'one', 'rooms', 'stayed', 'location', 'get', 'us', 'nice', 'breakfast', 'also', 'could', 'like', 'service', 'night', 'really', 'time', 'clean', 'small', 'place', 'two', 'even', 'walk', 'go', 'got', 'bathroom', 'back', 'bed', 'little', '2', 'well', 'hotel.', \"didn't\", 'much', \"it's\", 'next', 'new', 'day', 'front', 'first', 'friendly', 'desk', 'around', 'floor', 'hotels', 'recommend', 'booked', 'free', 'area', 'bit', 'right', 'found', 'london', 'nights', 'check', 'room.', 'street', 'food', 'quite', \"don't\", 'people', 'best', 'never', 'close', '&amp;', 'hotel,', 'want', 'comfortable', 'many', 'price', '3', 'view', 'large', 'went', 'room,', 'every', 'excellent', 'made', 'restaurant', 'times', '5', 'find', 'better', 'staying', 'bar', 'helpful', 'definitely', 'told', 'take', 'see', 'everything', 'big', 'shower', 'walking']\n"
     ]
    },
    {
     "data": {
      "text/plain": [
       "<matplotlib.text.Text at 0x7f93324cd9b0>"
      ]
     },
     "execution_count": 31,
     "metadata": {},
     "output_type": "execute_result"
    },
    {
     "data": {
      "image/png": "[encoded data removed]",
      "text/plain": [
       "<matplotlib.figure.Figure at 0x7f933115e320>"
      ]
     },
     "metadata": {},
     "output_type": "display_data"
    },
    {
     "data": {
      "image/png": "[encoded data removed]",
      "text/plain": [
       "<matplotlib.figure.Figure at 0x7f93322d8c50>"
      ]
     },
     "metadata": {},
     "output_type": "display_data"
    }
   ],
   "source": [
    "# Plot a histogram of the top 500 words \n",
    "f = open(\"word_lists_w_frequency\", \"r\")\n",
    "words = json.loads(f.read())\n",
    "f.close()\n",
    "N = 100\n",
    "top_N_words = []\n",
    "word_freq = []\n",
    "for i in range(len(words)-1, -1, -1):\n",
    "    if (i == len(words)-1-N): \n",
    "        break\n",
    "    top_N_words.append(words[i][0])\n",
    "    word_freq.append(words[i][1])\n",
    "print (\"Top {} words: {}\".format(N, top_N_words))\n",
    "\n",
    "plt.figure()\n",
    "plt.plot([i for i in range(N)], word_freq, \"r-\")\n",
    "plt.xlabel(\"Word index\")\n",
    "plt.ylabel(\"Frequencies\")\n",
    "\n",
    "\n",
    "stpwords = nltk.corpus.stopwords.words('english')\n",
    "top_N_words_nstop = []\n",
    "word_freq = []\n",
    "for i in range(len(words)-1, -1, -1):\n",
    "    if (len(word_freq) == N):\n",
    "        break\n",
    "    if (words[i][0] not in stpwords):\n",
    "        top_N_words_nstop.append(words[i][0])\n",
    "        word_freq.append(words[i][1])\n",
    "        \n",
    "print (\"Top {} non-stopwords: {}\".format(N, top_N_words_nstop))\n",
    "plt.figure()\n",
    "plt.plot([i for i in range(N)], word_freq, \"b-\")\n",
    "plt.xlabel(\"Word index\")\n",
    "plt.ylabel(\"Frequencies\")\n",
    "plt.title(\"Except stop words\")"
   ]
  },
  {
   "cell_type": "code",
   "execution_count": null,
   "metadata": {
    "collapsed": true
   },
   "outputs": [],
   "source": []
  },
  {
   "cell_type": "code",
   "execution_count": null,
   "metadata": {
    "collapsed": true
   },
   "outputs": [],
   "source": []
  },
  {
   "cell_type": "code",
   "execution_count": null,
   "metadata": {
    "collapsed": true
   },
   "outputs": [],
   "source": [
    "# Perform LDA on the whole dataset... Do that in the TFIDF.ipynb"
   ]
  },
  {
   "cell_type": "code",
   "execution_count": 12,
   "metadata": {
    "collapsed": false
   },
   "outputs": [
    {
     "data": {
      "text/plain": [
       "[('a', 0), ('b', 1)]"
      ]
     },
     "execution_count": 12,
     "metadata": {},
     "output_type": "execute_result"
    }
   ],
   "source": [
    "wdict = {'a': 0, 'b': 1}\n",
    "sorted(wdict.items(), key=operator.itemgetter(1))"
   ]
  },
  {
   "cell_type": "code",
   "execution_count": 22,
   "metadata": {
    "collapsed": false
   },
   "outputs": [
    {
     "data": {
      "text/plain": [
       "[10, 9, 8, 7, 6, 5, 4, 3, 2, 1, 0]"
      ]
     },
     "execution_count": 22,
     "metadata": {},
     "output_type": "execute_result"
    }
   ],
   "source": [
    "[i for i in range(10, -1, -1)]"
   ]
  },
  {
   "cell_type": "code",
   "execution_count": 29,
   "metadata": {
    "collapsed": false
   },
   "outputs": [
    {
     "data": {
      "text/plain": [
       "['i',\n",
       " 'me',\n",
       " 'my',\n",
       " 'myself',\n",
       " 'we',\n",
       " 'our',\n",
       " 'ours',\n",
       " 'ourselves',\n",
       " 'you',\n",
       " 'your',\n",
       " 'yours',\n",
       " 'yourself',\n",
       " 'yourselves',\n",
       " 'he',\n",
       " 'him',\n",
       " 'his',\n",
       " 'himself',\n",
       " 'she',\n",
       " 'her',\n",
       " 'hers',\n",
       " 'herself',\n",
       " 'it',\n",
       " 'its',\n",
       " 'itself',\n",
       " 'they',\n",
       " 'them',\n",
       " 'their',\n",
       " 'theirs',\n",
       " 'themselves',\n",
       " 'what',\n",
       " 'which',\n",
       " 'who',\n",
       " 'whom',\n",
       " 'this',\n",
       " 'that',\n",
       " 'these',\n",
       " 'those',\n",
       " 'am',\n",
       " 'is',\n",
       " 'are',\n",
       " 'was',\n",
       " 'were',\n",
       " 'be',\n",
       " 'been',\n",
       " 'being',\n",
       " 'have',\n",
       " 'has',\n",
       " 'had',\n",
       " 'having',\n",
       " 'do',\n",
       " 'does',\n",
       " 'did',\n",
       " 'doing',\n",
       " 'a',\n",
       " 'an',\n",
       " 'the',\n",
       " 'and',\n",
       " 'but',\n",
       " 'if',\n",
       " 'or',\n",
       " 'because',\n",
       " 'as',\n",
       " 'until',\n",
       " 'while',\n",
       " 'of',\n",
       " 'at',\n",
       " 'by',\n",
       " 'for',\n",
       " 'with',\n",
       " 'about',\n",
       " 'against',\n",
       " 'between',\n",
       " 'into',\n",
       " 'through',\n",
       " 'during',\n",
       " 'before',\n",
       " 'after',\n",
       " 'above',\n",
       " 'below',\n",
       " 'to',\n",
       " 'from',\n",
       " 'up',\n",
       " 'down',\n",
       " 'in',\n",
       " 'out',\n",
       " 'on',\n",
       " 'off',\n",
       " 'over',\n",
       " 'under',\n",
       " 'again',\n",
       " 'further',\n",
       " 'then',\n",
       " 'once',\n",
       " 'here',\n",
       " 'there',\n",
       " 'when',\n",
       " 'where',\n",
       " 'why',\n",
       " 'how',\n",
       " 'all',\n",
       " 'any',\n",
       " 'both',\n",
       " 'each',\n",
       " 'few',\n",
       " 'more',\n",
       " 'most',\n",
       " 'other',\n",
       " 'some',\n",
       " 'such',\n",
       " 'no',\n",
       " 'nor',\n",
       " 'not',\n",
       " 'only',\n",
       " 'own',\n",
       " 'same',\n",
       " 'so',\n",
       " 'than',\n",
       " 'too',\n",
       " 'very',\n",
       " 's',\n",
       " 't',\n",
       " 'can',\n",
       " 'will',\n",
       " 'just',\n",
       " 'don',\n",
       " 'should',\n",
       " 'now',\n",
       " 'd',\n",
       " 'll',\n",
       " 'm',\n",
       " 'o',\n",
       " 're',\n",
       " 've',\n",
       " 'y',\n",
       " 'ain',\n",
       " 'aren',\n",
       " 'couldn',\n",
       " 'didn',\n",
       " 'doesn',\n",
       " 'hadn',\n",
       " 'hasn',\n",
       " 'haven',\n",
       " 'isn',\n",
       " 'ma',\n",
       " 'mightn',\n",
       " 'mustn',\n",
       " 'needn',\n",
       " 'shan',\n",
       " 'shouldn',\n",
       " 'wasn',\n",
       " 'weren',\n",
       " 'won',\n",
       " 'wouldn']"
      ]
     },
     "execution_count": 29,
     "metadata": {},
     "output_type": "execute_result"
    }
   ],
   "source": [
    "nltk.corpus.stopwords.words('english')"
   ]
  },
  {
   "cell_type": "code",
   "execution_count": null,
   "metadata": {
    "collapsed": true
   },
   "outputs": [],
   "source": []
  }
 ],
 "metadata": {
  "kernelspec": {
   "display_name": "Python 3",
   "language": "python",
   "name": "python3"
  },
  "language_info": {
   "codemirror_mode": {
    "name": "ipython",
    "version": 3
   },
   "file_extension": ".py",
   "mimetype": "text/x-python",
   "name": "python",
   "nbconvert_exporter": "python",
   "pygments_lexer": "ipython3",
   "version": "3.5.2"
  }
 },
 "nbformat": 4,
 "nbformat_minor": 2
}
