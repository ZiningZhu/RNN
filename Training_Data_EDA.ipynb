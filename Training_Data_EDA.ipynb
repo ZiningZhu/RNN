{
 "cells": [
  {
   "cell_type": "markdown",
   "metadata": {},
   "source": [
    "## Perform an EDA on the training data\n",
    "\n",
    "- [FAIR's 2017 ACL paper](https://research.fb.com/publications/automatically-generating-rhythmic-verse-with-neural-networks/) achieved pretty good result using 34 million character set, with a 3-layer LSTM (2048-dimension hidden layer, and 128 dimension encoding). The model converged in 20 epochs.\n",
    "- I think there might be something wrong with my training data."
   ]
  },
  {
   "cell_type": "code",
   "execution_count": 6,
   "metadata": {
    "collapsed": true
   },
   "outputs": [],
   "source": [
    "import tensorflow as tf\n",
    "import numpy as np\n",
    "import matplotlib.pyplot as plt\n",
    "from bs4 import BeautifulSoup\n",
    "import os\n",
    "import re\n",
    "import pandas as pd\n",
    "%matplotlib inline\n",
    "import json\n",
    "from sklearn.feature_extraction.text import CountVectorizer, TfidfVectorizer\n",
    "from sklearn.decomposition import NMF, LatentDirichletAllocation"
   ]
  },
  {
   "cell_type": "code",
   "execution_count": 3,
   "metadata": {
    "collapsed": false
   },
   "outputs": [
    {
     "name": "stdout",
     "output_type": "stream",
     "text": [
      "shape is: (9919422, 40)\n"
     ]
    },
    {
     "data": {
      "text/plain": [
       "array([[ 0.,  0.,  0., ...,  0.,  0.,  0.],\n",
       "       [ 0.,  0.,  0., ...,  0.,  0.,  0.],\n",
       "       [ 0.,  0.,  1., ...,  0.,  0.,  0.],\n",
       "       ..., \n",
       "       [ 0.,  0.,  1., ...,  0.,  0.,  0.],\n",
       "       [ 0.,  0.,  0., ...,  0.,  0.,  0.],\n",
       "       [ 0.,  0.,  0., ...,  0.,  0.,  0.]])"
      ]
     },
     "execution_count": 3,
     "metadata": {},
     "output_type": "execute_result"
    }
   ],
   "source": [
    "# Read in the training data\n",
    "def vocab2vec(vocab_size, vocab_length=10**7):\n",
    "    f = open(\"Combined_String.txt\", \"r\")\n",
    "    s = f.read()\n",
    "    f.close()\n",
    "    D = 'abcdefghijklmnopqrstuvwxyz .,\\'()1234567890\";'\n",
    "    res = []\n",
    "    for i in range(vocab_length):\n",
    "        c = s[i].lower()\n",
    "        v = np.zeros((vocab_size))\n",
    "        try:\n",
    "            idx = D.index(c)\n",
    "            v[idx] = 1\n",
    "            res.append(v)\n",
    "        except (ValueError, IndexError) as e:\n",
    "            pass\n",
    "        \n",
    "        \n",
    "    ret = np.array(res) # A list of shape (vocab_length,) one-hot encoded characters\n",
    "    print (\"shape is: {}\".format(ret.shape))\n",
    "    return ret\n",
    "\n",
    "vocab2vec(40)\n",
    "# Around 10 million characters."
   ]
  },
  {
   "cell_type": "code",
   "execution_count": 5,
   "metadata": {
    "collapsed": false
   },
   "outputs": [
    {
     "name": "stdout",
     "output_type": "stream",
     "text": [
      "len(words)=42632595\n"
     ]
    }
   ],
   "source": [
    "# Count the most frequent 100 words\n",
    "f = open(\"Combined_String.txt\", \"r\")\n",
    "s = f.read().lower()\n",
    "f.close()\n",
    "s.replace(\"\\t\", \" \")\n",
    "s.replace(\"\\n\", \" \")\n",
    "words = s.split(\" \")\n",
    "print (\"len(words)={}\".format(len(words)))\n",
    "f = open(\"combined_word_lists.txt\", \"w+\")\n",
    "f.write(json.dumps(words))\n",
    "f.close()"
   ]
  },
  {
   "cell_type": "code",
   "execution_count": 7,
   "metadata": {
    "collapsed": true
   },
   "outputs": [],
   "source": [
    "# What's wrong... after spliting, the length is longer than \n"
   ]
  },
  {
   "cell_type": "code",
   "execution_count": null,
   "metadata": {
    "collapsed": true
   },
   "outputs": [],
   "source": []
  },
  {
   "cell_type": "code",
   "execution_count": null,
   "metadata": {
    "collapsed": true
   },
   "outputs": [],
   "source": []
  },
  {
   "cell_type": "code",
   "execution_count": null,
   "metadata": {
    "collapsed": true
   },
   "outputs": [],
   "source": []
  },
  {
   "cell_type": "code",
   "execution_count": null,
   "metadata": {
    "collapsed": true
   },
   "outputs": [],
   "source": [
    "# Perform an LDA on the data"
   ]
  },
  {
   "cell_type": "code",
   "execution_count": null,
   "metadata": {
    "collapsed": true
   },
   "outputs": [],
   "source": []
  }
 ],
 "metadata": {
  "kernelspec": {
   "display_name": "Python 3",
   "language": "python",
   "name": "python3"
  },
  "language_info": {
   "codemirror_mode": {
    "name": "ipython",
    "version": 3
   },
   "file_extension": ".py",
   "mimetype": "text/x-python",
   "name": "python",
   "nbconvert_exporter": "python",
   "pygments_lexer": "ipython3",
   "version": "3.5.2"
  }
 },
 "nbformat": 4,
 "nbformat_minor": 2
}
